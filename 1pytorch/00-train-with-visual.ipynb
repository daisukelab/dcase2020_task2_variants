{
 "cells": [
  {
   "cell_type": "markdown",
   "metadata": {},
   "source": [
    "# Train Task2Baseline model\n",
    "\n",
    "This is PyTorch version trainer code, will basically do the same with the original baseline written with Keras.\n",
    "\n",
    "- Train with all machine type data, then save each models.\n",
    "- Tensorboard visualization will show you training trajectories, thanks to [PyTorch Lightning](https://github.com/PyTorchLightning/pytorch-lightning).\n",
    "- And some extra visualizations."
   ]
  },
  {
   "cell_type": "code",
   "execution_count": 1,
   "metadata": {},
   "outputs": [
    {
     "name": "stderr",
     "output_type": "stream",
     "text": [
      "2020-03-14 15:44:16,112 - INFO - load_directory <- development\n"
     ]
    }
   ],
   "source": [
    "# public modules\n",
    "from dlcliche.notebook import *\n",
    "from dlcliche.utils import (\n",
    "    sys, random, Path, np, plt, EasyDict,\n",
    "    ensure_folder, deterministic_everything,\n",
    ")\n",
    "from argparse import Namespace\n",
    "\n",
    "# private modules\n",
    "sys.path.append('..')\n",
    "import common as com\n",
    "\n",
    "from pytorch_common import (\n",
    "    Task2Lightning, torch, pl\n",
    ")\n",
    "\n",
    "# loading parameters -> hparams (argparse compatible)\n",
    "params = EasyDict(com.yaml_load('config.yaml'))\n",
    "\n",
    "# create working directory\n",
    "ensure_folder(params.model_directory)\n",
    "\n",
    "# test directories\n",
    "dirs = com.select_dirs(param=params, mode='development')\n",
    "\n",
    "# fix random seeds\n",
    "deterministic_everything(2020, pytorch=True)\n",
    "\n",
    "# PyTorch device\n",
    "device = torch.device('cuda' if torch.cuda.is_available() else 'cpu')"
   ]
  },
  {
   "cell_type": "code",
   "execution_count": 4,
   "metadata": {},
   "outputs": [
    {
     "name": "stdout",
     "output_type": "stream",
     "text": [
      "The tensorboard extension is already loaded. To reload it, use:\n",
      "  %reload_ext tensorboard\n"
     ]
    },
    {
     "data": {
      "text/html": [
       "\n",
       "      <iframe id=\"tensorboard-frame-ab9f01dc2cad988e\" width=\"100%\" height=\"800\" frameborder=\"0\">\n",
       "      </iframe>\n",
       "      <script>\n",
       "        (function() {\n",
       "          const frame = document.getElementById(\"tensorboard-frame-ab9f01dc2cad988e\");\n",
       "          const url = new URL(\"/\", window.location);\n",
       "          url.port = 6007;\n",
       "          frame.src = url;\n",
       "        })();\n",
       "      </script>\n",
       "  "
      ],
      "text/plain": [
       "<IPython.core.display.HTML object>"
      ]
     },
     "metadata": {},
     "output_type": "display_data"
    }
   ],
   "source": [
    "%load_ext tensorboard\n",
    "%tensorboard --logdir lightning_logs/"
   ]
  },
  {
   "cell_type": "code",
   "execution_count": 5,
   "metadata": {
    "scrolled": false
   },
   "outputs": [
    {
     "name": "stderr",
     "output_type": "stream",
     "text": [
      "2020-03-14 15:44:48,046 - INFO - target_dir : dev_data/ToyCar\n",
      "2020-03-14 15:44:48,061 - INFO - # of training samples : 4000\n"
     ]
    },
    {
     "name": "stdout",
     "output_type": "stream",
     "text": [
      "==== Start training [ToyCar] with 1 GPU(s). ====\n",
      "----------------------------------------------------------------\n",
      "        Layer (type)               Output Shape         Param #\n",
      "================================================================\n",
      "            Linear-1                  [-1, 128]          82,048\n",
      "       BatchNorm1d-2                  [-1, 128]             256\n",
      "       _LinearUnit-3                  [-1, 128]               0\n",
      "            Linear-4                  [-1, 128]          16,512\n",
      "       BatchNorm1d-5                  [-1, 128]             256\n",
      "       _LinearUnit-6                  [-1, 128]               0\n",
      "            Linear-7                  [-1, 128]          16,512\n",
      "       BatchNorm1d-8                  [-1, 128]             256\n",
      "       _LinearUnit-9                  [-1, 128]               0\n",
      "           Linear-10                  [-1, 128]          16,512\n",
      "      BatchNorm1d-11                  [-1, 128]             256\n",
      "      _LinearUnit-12                  [-1, 128]               0\n",
      "           Linear-13                    [-1, 8]           1,032\n",
      "      BatchNorm1d-14                    [-1, 8]              16\n",
      "      _LinearUnit-15                    [-1, 8]               0\n",
      "           Linear-16                  [-1, 128]           1,152\n",
      "      BatchNorm1d-17                  [-1, 128]             256\n",
      "      _LinearUnit-18                  [-1, 128]               0\n",
      "           Linear-19                  [-1, 128]          16,512\n",
      "      BatchNorm1d-20                  [-1, 128]             256\n",
      "      _LinearUnit-21                  [-1, 128]               0\n",
      "           Linear-22                  [-1, 128]          16,512\n",
      "      BatchNorm1d-23                  [-1, 128]             256\n",
      "      _LinearUnit-24                  [-1, 128]               0\n",
      "           Linear-25                  [-1, 128]          16,512\n",
      "      BatchNorm1d-26                  [-1, 128]             256\n",
      "      _LinearUnit-27                  [-1, 128]               0\n",
      "           Linear-28                  [-1, 640]          82,560\n",
      "================================================================\n",
      "Total params: 267,928\n",
      "Trainable params: 267,928\n",
      "Non-trainable params: 0\n",
      "----------------------------------------------------------------\n",
      "Input size (MB): 0.00\n",
      "Forward/backward pass size (MB): 0.03\n",
      "Params size (MB): 1.02\n",
      "Estimated Total Size (MB): 1.05\n",
      "----------------------------------------------------------------\n"
     ]
    },
    {
     "data": {
      "application/vnd.jupyter.widget-view+json": {
       "model_id": "0ffc963d3c464c8ba0b91cb0f0098d73",
       "version_major": 2,
       "version_minor": 0
      },
      "text/plain": [
       "HBox(children=(FloatProgress(value=0.0, description='calc...', max=400.0, style=ProgressStyle(description_widt…"
      ]
     },
     "metadata": {},
     "output_type": "display_data"
    },
    {
     "name": "stderr",
     "output_type": "stream",
     "text": [
      "2020-03-14 15:44:50,311 - INFO - Creating data for 400 files: size=136000, shape=(640,)\n"
     ]
    },
    {
     "name": "stdout",
     "output_type": "stream",
     "text": [
      "\n"
     ]
    },
    {
     "data": {
      "application/vnd.jupyter.widget-view+json": {
       "model_id": "",
       "version_major": 2,
       "version_minor": 0
      },
      "text/plain": [
       "HBox(children=(FloatProgress(value=0.0, description='Validation sanity check', layout=Layout(flex='2'), max=5.…"
      ]
     },
     "metadata": {},
     "output_type": "display_data"
    },
    {
     "name": "stdout",
     "output_type": "stream",
     "text": [
      "\r"
     ]
    },
    {
     "data": {
      "application/vnd.jupyter.widget-view+json": {
       "model_id": "09d7d2080acd437d9861ecc0cd381087",
       "version_major": 2,
       "version_minor": 0
      },
      "text/plain": [
       "HBox(children=(FloatProgress(value=1.0, bar_style='info', layout=Layout(flex='2'), max=1.0), HTML(value='')), …"
      ]
     },
     "metadata": {},
     "output_type": "display_data"
    },
    {
     "data": {
      "application/vnd.jupyter.widget-view+json": {
       "model_id": "0879e4f06cbd477c8ec5eb16428dc976",
       "version_major": 2,
       "version_minor": 0
      },
      "text/plain": [
       "HBox(children=(FloatProgress(value=0.0, description='calc...', max=3600.0, style=ProgressStyle(description_wid…"
      ]
     },
     "metadata": {},
     "output_type": "display_data"
    },
    {
     "name": "stderr",
     "output_type": "stream",
     "text": [
      "2020-03-14 15:44:55,705 - INFO - Creating data for 3600 files: size=1224000, shape=(640,)\n"
     ]
    },
    {
     "name": "stdout",
     "output_type": "stream",
     "text": [
      "\n"
     ]
    },
    {
     "name": "stderr",
     "output_type": "stream",
     "text": [
      "2020-03-14 15:45:32,265 - INFO - Loading cached __cache_ToyCar_val.npy\n"
     ]
    },
    {
     "data": {
      "application/vnd.jupyter.widget-view+json": {
       "model_id": "",
       "version_major": 2,
       "version_minor": 0
      },
      "text/plain": [
       "HBox(children=(FloatProgress(value=0.0, description='Validating', layout=Layout(flex='2'), max=266.0, style=Pr…"
      ]
     },
     "metadata": {},
     "output_type": "display_data"
    },
    {
     "name": "stderr",
     "output_type": "stream",
     "text": [
      "2020-03-14 15:46:25,886 - INFO - target_dir : dev_data/ToyConveyor\n",
      "2020-03-14 15:46:25,897 - INFO - # of training samples : 3000\n"
     ]
    },
    {
     "name": "stdout",
     "output_type": "stream",
     "text": [
      "\n",
      "saved ./model/model_ToyCar.pth.\n",
      "\n",
      "==== Start training [ToyConveyor] with 1 GPU(s). ====\n"
     ]
    },
    {
     "data": {
      "application/vnd.jupyter.widget-view+json": {
       "model_id": "778fcbef44b04b91bb30a7bdfd9ead92",
       "version_major": 2,
       "version_minor": 0
      },
      "text/plain": [
       "HBox(children=(FloatProgress(value=0.0, description='calc...', max=300.0, style=ProgressStyle(description_widt…"
      ]
     },
     "metadata": {},
     "output_type": "display_data"
    },
    {
     "name": "stderr",
     "output_type": "stream",
     "text": [
      "2020-03-14 15:46:25,939 - INFO - Creating data for 300 files: size=92700, shape=(640,)\n"
     ]
    },
    {
     "name": "stdout",
     "output_type": "stream",
     "text": [
      "\n"
     ]
    },
    {
     "data": {
      "application/vnd.jupyter.widget-view+json": {
       "model_id": "",
       "version_major": 2,
       "version_minor": 0
      },
      "text/plain": [
       "HBox(children=(FloatProgress(value=0.0, description='Validation sanity check', layout=Layout(flex='2'), max=5.…"
      ]
     },
     "metadata": {},
     "output_type": "display_data"
    },
    {
     "name": "stdout",
     "output_type": "stream",
     "text": [
      "\r"
     ]
    },
    {
     "data": {
      "application/vnd.jupyter.widget-view+json": {
       "model_id": "8b6bd8b78218404ca08ca8e02f00338f",
       "version_major": 2,
       "version_minor": 0
      },
      "text/plain": [
       "HBox(children=(FloatProgress(value=1.0, bar_style='info', layout=Layout(flex='2'), max=1.0), HTML(value='')), …"
      ]
     },
     "metadata": {},
     "output_type": "display_data"
    },
    {
     "data": {
      "application/vnd.jupyter.widget-view+json": {
       "model_id": "6814688ee74e4d388b40e5e360e23a52",
       "version_major": 2,
       "version_minor": 0
      },
      "text/plain": [
       "HBox(children=(FloatProgress(value=0.0, description='calc...', max=2700.0, style=ProgressStyle(description_wid…"
      ]
     },
     "metadata": {},
     "output_type": "display_data"
    },
    {
     "name": "stderr",
     "output_type": "stream",
     "text": [
      "2020-03-14 15:46:28,854 - INFO - Creating data for 2700 files: size=834300, shape=(640,)\n"
     ]
    },
    {
     "name": "stdout",
     "output_type": "stream",
     "text": [
      "\n"
     ]
    },
    {
     "name": "stderr",
     "output_type": "stream",
     "text": [
      "2020-03-14 15:46:53,403 - INFO - Loading cached __cache_ToyConveyor_val.npy\n"
     ]
    },
    {
     "data": {
      "application/vnd.jupyter.widget-view+json": {
       "model_id": "",
       "version_major": 2,
       "version_minor": 0
      },
      "text/plain": [
       "HBox(children=(FloatProgress(value=0.0, description='Validating', layout=Layout(flex='2'), max=182.0, style=Pr…"
      ]
     },
     "metadata": {},
     "output_type": "display_data"
    },
    {
     "name": "stderr",
     "output_type": "stream",
     "text": [
      "2020-03-14 15:47:29,759 - INFO - target_dir : dev_data/fan\n",
      "2020-03-14 15:47:29,767 - INFO - # of training samples : 3675\n",
      "2020-03-14 15:47:29,796 - INFO - Loading cached __cache_fan_val.npy\n"
     ]
    },
    {
     "name": "stdout",
     "output_type": "stream",
     "text": [
      "\n",
      "saved ./model/model_ToyConveyor.pth.\n",
      "\n",
      "==== Start training [fan] with 1 GPU(s). ====\n"
     ]
    },
    {
     "data": {
      "application/vnd.jupyter.widget-view+json": {
       "model_id": "",
       "version_major": 2,
       "version_minor": 0
      },
      "text/plain": [
       "HBox(children=(FloatProgress(value=0.0, description='Validation sanity check', layout=Layout(flex='2'), max=5.…"
      ]
     },
     "metadata": {},
     "output_type": "display_data"
    },
    {
     "name": "stdout",
     "output_type": "stream",
     "text": [
      "\r"
     ]
    },
    {
     "data": {
      "application/vnd.jupyter.widget-view+json": {
       "model_id": "31d09942c30e420680f05d224be56bbd",
       "version_major": 2,
       "version_minor": 0
      },
      "text/plain": [
       "HBox(children=(FloatProgress(value=1.0, bar_style='info', layout=Layout(flex='2'), max=1.0), HTML(value='')), …"
      ]
     },
     "metadata": {},
     "output_type": "display_data"
    },
    {
     "data": {
      "application/vnd.jupyter.widget-view+json": {
       "model_id": "7019d0f7169d4b6e85e6a79d81cbe7e4",
       "version_major": 2,
       "version_minor": 0
      },
      "text/plain": [
       "HBox(children=(FloatProgress(value=0.0, description='calc...', max=3308.0, style=ProgressStyle(description_wid…"
      ]
     },
     "metadata": {},
     "output_type": "display_data"
    },
    {
     "name": "stderr",
     "output_type": "stream",
     "text": [
      "2020-03-14 15:47:30,364 - INFO - Creating data for 3308 files: size=1022172, shape=(640,)\n"
     ]
    },
    {
     "name": "stdout",
     "output_type": "stream",
     "text": [
      "\n"
     ]
    },
    {
     "name": "stderr",
     "output_type": "stream",
     "text": [
      "2020-03-14 15:48:00,798 - INFO - Loading cached __cache_fan_val.npy\n"
     ]
    },
    {
     "data": {
      "application/vnd.jupyter.widget-view+json": {
       "model_id": "",
       "version_major": 2,
       "version_minor": 0
      },
      "text/plain": [
       "HBox(children=(FloatProgress(value=0.0, description='Validating', layout=Layout(flex='2'), max=222.0, style=Pr…"
      ]
     },
     "metadata": {},
     "output_type": "display_data"
    },
    {
     "name": "stderr",
     "output_type": "stream",
     "text": [
      "2020-03-14 15:48:45,433 - INFO - target_dir : dev_data/pump\n",
      "2020-03-14 15:48:45,446 - INFO - # of training samples : 3349\n"
     ]
    },
    {
     "name": "stdout",
     "output_type": "stream",
     "text": [
      "\n",
      "saved ./model/model_fan.pth.\n",
      "\n",
      "==== Start training [pump] with 1 GPU(s). ====\n"
     ]
    },
    {
     "data": {
      "application/vnd.jupyter.widget-view+json": {
       "model_id": "4dc8f0128cec4849857f0aae8b9335f9",
       "version_major": 2,
       "version_minor": 0
      },
      "text/plain": [
       "HBox(children=(FloatProgress(value=0.0, description='calc...', max=334.0, style=ProgressStyle(description_widt…"
      ]
     },
     "metadata": {},
     "output_type": "display_data"
    },
    {
     "name": "stderr",
     "output_type": "stream",
     "text": [
      "2020-03-14 15:48:45,491 - INFO - Creating data for 334 files: size=103206, shape=(640,)\n"
     ]
    },
    {
     "name": "stdout",
     "output_type": "stream",
     "text": [
      "\n"
     ]
    },
    {
     "data": {
      "application/vnd.jupyter.widget-view+json": {
       "model_id": "",
       "version_major": 2,
       "version_minor": 0
      },
      "text/plain": [
       "HBox(children=(FloatProgress(value=0.0, description='Validation sanity check', layout=Layout(flex='2'), max=5.…"
      ]
     },
     "metadata": {},
     "output_type": "display_data"
    },
    {
     "name": "stdout",
     "output_type": "stream",
     "text": [
      "\r"
     ]
    },
    {
     "data": {
      "application/vnd.jupyter.widget-view+json": {
       "model_id": "7b012c61b2bb4a2fadcfc02db342dd81",
       "version_major": 2,
       "version_minor": 0
      },
      "text/plain": [
       "HBox(children=(FloatProgress(value=1.0, bar_style='info', layout=Layout(flex='2'), max=1.0), HTML(value='')), …"
      ]
     },
     "metadata": {},
     "output_type": "display_data"
    },
    {
     "data": {
      "application/vnd.jupyter.widget-view+json": {
       "model_id": "f658fa059ba543a39b12397d8ad2c13d",
       "version_major": 2,
       "version_minor": 0
      },
      "text/plain": [
       "HBox(children=(FloatProgress(value=0.0, description='calc...', max=3015.0, style=ProgressStyle(description_wid…"
      ]
     },
     "metadata": {},
     "output_type": "display_data"
    },
    {
     "name": "stderr",
     "output_type": "stream",
     "text": [
      "2020-03-14 15:48:48,688 - INFO - Creating data for 3015 files: size=931635, shape=(640,)\n"
     ]
    },
    {
     "name": "stdout",
     "output_type": "stream",
     "text": [
      "\n"
     ]
    },
    {
     "name": "stderr",
     "output_type": "stream",
     "text": [
      "2020-03-14 15:49:17,264 - INFO - Loading cached __cache_pump_val.npy\n"
     ]
    },
    {
     "data": {
      "application/vnd.jupyter.widget-view+json": {
       "model_id": "",
       "version_major": 2,
       "version_minor": 0
      },
      "text/plain": [
       "HBox(children=(FloatProgress(value=0.0, description='Validating', layout=Layout(flex='2'), max=202.0, style=Pr…"
      ]
     },
     "metadata": {},
     "output_type": "display_data"
    },
    {
     "name": "stderr",
     "output_type": "stream",
     "text": [
      "2020-03-14 15:49:56,495 - INFO - target_dir : dev_data/slider\n",
      "2020-03-14 15:49:56,506 - INFO - # of training samples : 2804\n"
     ]
    },
    {
     "name": "stdout",
     "output_type": "stream",
     "text": [
      "\n",
      "saved ./model/model_pump.pth.\n",
      "\n",
      "==== Start training [slider] with 1 GPU(s). ====\n"
     ]
    },
    {
     "data": {
      "application/vnd.jupyter.widget-view+json": {
       "model_id": "3b8e371aed0f4157908a4369d2d8f9f0",
       "version_major": 2,
       "version_minor": 0
      },
      "text/plain": [
       "HBox(children=(FloatProgress(value=0.0, description='calc...', max=280.0, style=ProgressStyle(description_widt…"
      ]
     },
     "metadata": {},
     "output_type": "display_data"
    },
    {
     "name": "stderr",
     "output_type": "stream",
     "text": [
      "2020-03-14 15:49:56,549 - INFO - Creating data for 280 files: size=86520, shape=(640,)\n"
     ]
    },
    {
     "name": "stdout",
     "output_type": "stream",
     "text": [
      "\n"
     ]
    },
    {
     "data": {
      "application/vnd.jupyter.widget-view+json": {
       "model_id": "",
       "version_major": 2,
       "version_minor": 0
      },
      "text/plain": [
       "HBox(children=(FloatProgress(value=0.0, description='Validation sanity check', layout=Layout(flex='2'), max=5.…"
      ]
     },
     "metadata": {},
     "output_type": "display_data"
    },
    {
     "name": "stdout",
     "output_type": "stream",
     "text": [
      "\r"
     ]
    },
    {
     "data": {
      "application/vnd.jupyter.widget-view+json": {
       "model_id": "3c9c2f73bdb748e4b4051be1c9f437fa",
       "version_major": 2,
       "version_minor": 0
      },
      "text/plain": [
       "HBox(children=(FloatProgress(value=1.0, bar_style='info', layout=Layout(flex='2'), max=1.0), HTML(value='')), …"
      ]
     },
     "metadata": {},
     "output_type": "display_data"
    },
    {
     "data": {
      "application/vnd.jupyter.widget-view+json": {
       "model_id": "24a372fc65f044b799dae89d517e0ff3",
       "version_major": 2,
       "version_minor": 0
      },
      "text/plain": [
       "HBox(children=(FloatProgress(value=0.0, description='calc...', max=2524.0, style=ProgressStyle(description_wid…"
      ]
     },
     "metadata": {},
     "output_type": "display_data"
    },
    {
     "name": "stderr",
     "output_type": "stream",
     "text": [
      "2020-03-14 15:49:59,276 - INFO - Creating data for 2524 files: size=779916, shape=(640,)\n"
     ]
    },
    {
     "name": "stdout",
     "output_type": "stream",
     "text": [
      "\n"
     ]
    },
    {
     "name": "stderr",
     "output_type": "stream",
     "text": [
      "2020-03-14 15:50:22,207 - INFO - Loading cached __cache_slider_val.npy\n"
     ]
    },
    {
     "data": {
      "application/vnd.jupyter.widget-view+json": {
       "model_id": "",
       "version_major": 2,
       "version_minor": 0
      },
      "text/plain": [
       "HBox(children=(FloatProgress(value=0.0, description='Validating', layout=Layout(flex='2'), max=169.0, style=Pr…"
      ]
     },
     "metadata": {},
     "output_type": "display_data"
    },
    {
     "name": "stderr",
     "output_type": "stream",
     "text": [
      "2020-03-14 15:50:55,050 - INFO - target_dir : dev_data/valve\n",
      "2020-03-14 15:50:55,062 - INFO - # of training samples : 3291\n"
     ]
    },
    {
     "name": "stdout",
     "output_type": "stream",
     "text": [
      "\n",
      "saved ./model/model_slider.pth.\n",
      "\n",
      "==== Start training [valve] with 1 GPU(s). ====\n"
     ]
    },
    {
     "data": {
      "application/vnd.jupyter.widget-view+json": {
       "model_id": "867ba9f232a24716a0b07350dbbba649",
       "version_major": 2,
       "version_minor": 0
      },
      "text/plain": [
       "HBox(children=(FloatProgress(value=0.0, description='calc...', max=329.0, style=ProgressStyle(description_widt…"
      ]
     },
     "metadata": {},
     "output_type": "display_data"
    },
    {
     "name": "stderr",
     "output_type": "stream",
     "text": [
      "2020-03-14 15:50:55,106 - INFO - Creating data for 329 files: size=101661, shape=(640,)\n"
     ]
    },
    {
     "name": "stdout",
     "output_type": "stream",
     "text": [
      "\n"
     ]
    },
    {
     "data": {
      "application/vnd.jupyter.widget-view+json": {
       "model_id": "",
       "version_major": 2,
       "version_minor": 0
      },
      "text/plain": [
       "HBox(children=(FloatProgress(value=0.0, description='Validation sanity check', layout=Layout(flex='2'), max=5.…"
      ]
     },
     "metadata": {},
     "output_type": "display_data"
    },
    {
     "name": "stdout",
     "output_type": "stream",
     "text": [
      "\r"
     ]
    },
    {
     "data": {
      "application/vnd.jupyter.widget-view+json": {
       "model_id": "471b5fc4f5604bd6aea860a6507c4afd",
       "version_major": 2,
       "version_minor": 0
      },
      "text/plain": [
       "HBox(children=(FloatProgress(value=1.0, bar_style='info', layout=Layout(flex='2'), max=1.0), HTML(value='')), …"
      ]
     },
     "metadata": {},
     "output_type": "display_data"
    },
    {
     "data": {
      "application/vnd.jupyter.widget-view+json": {
       "model_id": "88c9a75eb35f4273b5968a0a367a275d",
       "version_major": 2,
       "version_minor": 0
      },
      "text/plain": [
       "HBox(children=(FloatProgress(value=0.0, description='calc...', max=2962.0, style=ProgressStyle(description_wid…"
      ]
     },
     "metadata": {},
     "output_type": "display_data"
    },
    {
     "name": "stderr",
     "output_type": "stream",
     "text": [
      "2020-03-14 15:50:58,281 - INFO - Creating data for 2962 files: size=915258, shape=(640,)\n"
     ]
    },
    {
     "name": "stdout",
     "output_type": "stream",
     "text": [
      "\n"
     ]
    },
    {
     "name": "stderr",
     "output_type": "stream",
     "text": [
      "2020-03-14 15:51:26,140 - INFO - Loading cached __cache_valve_val.npy\n"
     ]
    },
    {
     "data": {
      "application/vnd.jupyter.widget-view+json": {
       "model_id": "",
       "version_major": 2,
       "version_minor": 0
      },
      "text/plain": [
       "HBox(children=(FloatProgress(value=0.0, description='Validating', layout=Layout(flex='2'), max=199.0, style=Pr…"
      ]
     },
     "metadata": {},
     "output_type": "display_data"
    },
    {
     "name": "stdout",
     "output_type": "stream",
     "text": [
      "\n",
      "saved ./model/model_valve.pth.\n",
      "\n"
     ]
    }
   ],
   "source": [
    "# train models\n",
    "\n",
    "for target_dir in dirs:\n",
    "    target = str(target_dir).split('/')[-1]\n",
    "    print(f'==== Start training [{target}] with {torch.cuda.device_count()} GPU(s). ====')\n",
    "\n",
    "    files = com.file_list_generator(target_dir)\n",
    "\n",
    "    task2 = Task2Lightning(device, params, files, summary=(target == 'ToyCar'))\n",
    "    trainer = pl.Trainer(max_epochs=params.fit.epochs, gpus=torch.cuda.device_count())\n",
    "    trainer.fit(task2)\n",
    "    \n",
    "    model_file = f'{params.model_directory}/model_{target}.pth'\n",
    "    torch.save(task2.model.state_dict(), model_file)\n",
    "    print(f'saved {model_file}.\\n')"
   ]
  },
  {
   "cell_type": "markdown",
   "metadata": {},
   "source": [
    "## Visualize "
   ]
  },
  {
   "cell_type": "code",
   "execution_count": 14,
   "metadata": {},
   "outputs": [
    {
     "data": {
      "image/png": "[encoded data removed]",
      "text/plain": [
       "<Figure size 720x360 with 2 Axes>"
      ]
     },
     "metadata": {
      "needs_background": "light"
     },
     "output_type": "display_data"
    }
   ],
   "source": [
    "# Get one batch of samples from validation set, then get model prediction result.\n",
    "dl = task2.val_dataloader()\n",
    "x, y = next(iter(dl))\n",
    "with torch.no_grad():\n",
    "    yhat = task2.model(x)\n",
    "# Show \n",
    "fig, axs = plt.subplots(1, 2, figsize=(10, 5))\n",
    "sample_idx = 0\n",
    "axs[0].plot(x.cpu().numpy()[sample_idx][0]); axs[1].plot(yhat.cpu().numpy()[sample_idx][0]);"
   ]
  },
  {
   "cell_type": "markdown",
   "metadata": {},
   "source": [
    "## Data structure check\n",
    "\n",
    "Curious about data structure? here's how `file_to_vector_array()` does."
   ]
  },
  {
   "cell_type": "code",
   "execution_count": 21,
   "metadata": {},
   "outputs": [
    {
     "name": "stdout",
     "output_type": "stream",
     "text": [
      "simply after converting wave into log mel spectrogram, log_mel_spectrogram will have shape like this: (2, 54)\n",
      "[[ 0.   1.   2.   3.   4.   5.   6.   7.   8.   9.  10.  11.  12.  13.\n",
      "  14.  15.  16.  17.  18.  19.  20.  21.  22.  23.  24.  25.  26.  27.\n",
      "  28.  29.  30.  31.  32.  33.  34.  35.  36.  37.  38.  39.  40.  41.\n",
      "  42.  43.  44.  45.  46.  47.  48.  49.  50.  51.  52.  53. ]\n",
      " [ 0.1  1.1  2.1  3.1  4.1  5.1  6.1  7.1  8.1  9.1 10.1 11.1 12.1 13.1\n",
      "  14.1 15.1 16.1 17.1 18.1 19.1 20.1 21.1 22.1 23.1 24.1 25.1 26.1 27.1\n",
      "  28.1 29.1 30.1 31.1 32.1 33.1 34.1 35.1 36.1 37.1 38.1 39.1 40.1 41.1\n",
      "  42.1 43.1 44.1 45.1 46.1 47.1 48.1 49.1 50.1 51.1 52.1 53.1]]\n"
     ]
    }
   ],
   "source": [
    "# simplify problem. if we use n_mels and frames as follows,\n",
    "n_mels = 2\n",
    "frames = 5\n",
    "\n",
    "# and let's set wave length is short and mel spectrogram array length is,\n",
    "vector_array_size = 50\n",
    "\n",
    "# log_mel_spectrogram will be like this.\n",
    "dims = frames * n_mels\n",
    "tmp = np.array(list(range(vector_array_size + frames - 1)))\n",
    "log_mel_spectrogram = np.c_[tmp, tmp+0.1].T\n",
    "print('simply after converting wave into log mel spectrogram, log_mel_spectrogram will have shape like this:', log_mel_spectrogram.shape)\n",
    "print(log_mel_spectrogram)"
   ]
  },
  {
   "cell_type": "code",
   "execution_count": 26,
   "metadata": {},
   "outputs": [
    {
     "name": "stdout",
     "output_type": "stream",
     "text": [
      "we'd like to arrange data structure and copy into a vector_array with shape (50, 10) as follows:\n",
      "\n",
      "[[ 0.   0.1  1.   1.1  2.   2.1  3.   3.1  4.   4.1]\n",
      " [ 1.   1.1  2.   2.1  3.   3.1  4.   4.1  5.   5.1]\n",
      " [ 2.   2.1  3.   3.1  4.   4.1  5.   5.1  6.   6.1]\n",
      " [ 3.   3.1  4.   4.1  5.   5.1  6.   6.1  7.   7.1]\n",
      " [ 4.   4.1  5.   5.1  6.   6.1  7.   7.1  8.   8.1]\n",
      " [ 5.   5.1  6.   6.1  7.   7.1  8.   8.1  9.   9.1]\n",
      " [ 6.   6.1  7.   7.1  8.   8.1  9.   9.1 10.  10.1]\n",
      " [ 7.   7.1  8.   8.1  9.   9.1 10.  10.1 11.  11.1]\n",
      " [ 8.   8.1  9.   9.1 10.  10.1 11.  11.1 12.  12.1]\n",
      " [ 9.   9.1 10.  10.1 11.  11.1 12.  12.1 13.  13.1]\n",
      " [10.  10.1 11.  11.1 12.  12.1 13.  13.1 14.  14.1]\n",
      " [11.  11.1 12.  12.1 13.  13.1 14.  14.1 15.  15.1]\n",
      " [12.  12.1 13.  13.1 14.  14.1 15.  15.1 16.  16.1]\n",
      " [13.  13.1 14.  14.1 15.  15.1 16.  16.1 17.  17.1]\n",
      " [14.  14.1 15.  15.1 16.  16.1 17.  17.1 18.  18.1]\n",
      " [15.  15.1 16.  16.1 17.  17.1 18.  18.1 19.  19.1]\n",
      " [16.  16.1 17.  17.1 18.  18.1 19.  19.1 20.  20.1]\n",
      " [17.  17.1 18.  18.1 19.  19.1 20.  20.1 21.  21.1]\n",
      " [18.  18.1 19.  19.1 20.  20.1 21.  21.1 22.  22.1]\n",
      " [19.  19.1 20.  20.1 21.  21.1 22.  22.1 23.  23.1]\n",
      " [20.  20.1 21.  21.1 22.  22.1 23.  23.1 24.  24.1]\n",
      " [21.  21.1 22.  22.1 23.  23.1 24.  24.1 25.  25.1]\n",
      " [22.  22.1 23.  23.1 24.  24.1 25.  25.1 26.  26.1]\n",
      " [23.  23.1 24.  24.1 25.  25.1 26.  26.1 27.  27.1]\n",
      " [24.  24.1 25.  25.1 26.  26.1 27.  27.1 28.  28.1]\n",
      " [25.  25.1 26.  26.1 27.  27.1 28.  28.1 29.  29.1]\n",
      " [26.  26.1 27.  27.1 28.  28.1 29.  29.1 30.  30.1]\n",
      " [27.  27.1 28.  28.1 29.  29.1 30.  30.1 31.  31.1]\n",
      " [28.  28.1 29.  29.1 30.  30.1 31.  31.1 32.  32.1]\n",
      " [29.  29.1 30.  30.1 31.  31.1 32.  32.1 33.  33.1]\n",
      " [30.  30.1 31.  31.1 32.  32.1 33.  33.1 34.  34.1]\n",
      " [31.  31.1 32.  32.1 33.  33.1 34.  34.1 35.  35.1]\n",
      " [32.  32.1 33.  33.1 34.  34.1 35.  35.1 36.  36.1]\n",
      " [33.  33.1 34.  34.1 35.  35.1 36.  36.1 37.  37.1]\n",
      " [34.  34.1 35.  35.1 36.  36.1 37.  37.1 38.  38.1]\n",
      " [35.  35.1 36.  36.1 37.  37.1 38.  38.1 39.  39.1]\n",
      " [36.  36.1 37.  37.1 38.  38.1 39.  39.1 40.  40.1]\n",
      " [37.  37.1 38.  38.1 39.  39.1 40.  40.1 41.  41.1]\n",
      " [38.  38.1 39.  39.1 40.  40.1 41.  41.1 42.  42.1]\n",
      " [39.  39.1 40.  40.1 41.  41.1 42.  42.1 43.  43.1]\n",
      " [40.  40.1 41.  41.1 42.  42.1 43.  43.1 44.  44.1]\n",
      " [41.  41.1 42.  42.1 43.  43.1 44.  44.1 45.  45.1]\n",
      " [42.  42.1 43.  43.1 44.  44.1 45.  45.1 46.  46.1]\n",
      " [43.  43.1 44.  44.1 45.  45.1 46.  46.1 47.  47.1]\n",
      " [44.  44.1 45.  45.1 46.  46.1 47.  47.1 48.  48.1]\n",
      " [45.  45.1 46.  46.1 47.  47.1 48.  48.1 49.  49.1]\n",
      " [46.  46.1 47.  47.1 48.  48.1 49.  49.1 50.  50.1]\n",
      " [47.  47.1 48.  48.1 49.  49.1 50.  50.1 51.  51.1]\n",
      " [48.  48.1 49.  49.1 50.  50.1 51.  51.1 52.  52.1]\n",
      " [49.  49.1 50.  50.1 51.  51.1 52.  52.1 53.  53.1]]\n"
     ]
    }
   ],
   "source": [
    "vector_array = np.zeros((vector_array_size, dims))\n",
    "\n",
    "print(f\"we'd like to arrange data structure and copy into a vector_array with shape {vector_array.shape} as follows:\\n\")\n",
    "\n",
    "for t in range(frames):\n",
    "    vector_array[:, n_mels * t: n_mels * (t + 1)] = log_mel_spectrogram[:, t: t + vector_array_size].T\n",
    "\n",
    "print(vector_array)"
   ]
  },
  {
   "cell_type": "code",
   "execution_count": null,
   "metadata": {
    "collapsed": true
   },
   "outputs": [],
   "source": []
  }
 ],
 "metadata": {
  "kernelspec": {
   "display_name": "task2",
   "language": "python",
   "name": "task2"
  },
  "language_info": {
   "codemirror_mode": {
    "name": "ipython",
    "version": 3
   },
   "file_extension": ".py",
   "mimetype": "text/x-python",
   "name": "python",
   "nbconvert_exporter": "python",
   "pygments_lexer": "ipython3",
   "version": "3.7.0"
  }
 },
 "nbformat": 4,
 "nbformat_minor": 2
}
